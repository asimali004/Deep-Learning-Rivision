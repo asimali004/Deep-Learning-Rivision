{
  "nbformat": 4,
  "nbformat_minor": 0,
  "metadata": {
    "colab": {
      "name": "DL Q2 Chapter 1.ipynb",
      "provenance": []
    },
    "kernelspec": {
      "name": "python3",
      "display_name": "Python 3"
    },
    "language_info": {
      "name": "python"
    },
    "accelerator": "TPU",
    "gpuClass": "standard"
  },
  "cells": [
    {
      "cell_type": "code",
      "execution_count": 3,
      "metadata": {
        "id": "e6ozo8VoeqKU"
      },
      "outputs": [],
      "source": [
        "import numpy as np\n",
        "import pandas as pd\n",
        "import matplotlib.pyplot as plt"
      ]
    },
    {
      "cell_type": "code",
      "source": [
        "df = pd.read_csv(\"https://raw.githubusercontent.com/EnggQasim/UIT/master/Deep_Learning/Chapter1/data/weight-height.csv\")"
      ],
      "metadata": {
        "id": "BMBRnMK5l_WF"
      },
      "execution_count": 4,
      "outputs": []
    },
    {
      "cell_type": "code",
      "source": [
        "df.sample(5)"
      ],
      "metadata": {
        "colab": {
          "base_uri": "https://localhost:8080/",
          "height": 206
        },
        "id": "1PxuWpBDmC4G",
        "outputId": "9d8864a1-9813-49f1-c208-044bbb1b993b"
      },
      "execution_count": 5,
      "outputs": [
        {
          "output_type": "execute_result",
          "data": {
            "text/plain": [
              "      Gender     Height      Weight\n",
              "7253  Female  64.715292  143.939717\n",
              "1319    Male  70.404436  193.856769\n",
              "5868  Female  58.376812   96.579212\n",
              "6634  Female  63.806045  145.429650\n",
              "9884  Female  61.808434  121.339602"
            ],
            "text/html": [
              "\n",
              "  <div id=\"df-12581c4c-60b1-41be-b93b-b9275c45b1b7\">\n",
              "    <div class=\"colab-df-container\">\n",
              "      <div>\n",
              "<style scoped>\n",
              "    .dataframe tbody tr th:only-of-type {\n",
              "        vertical-align: middle;\n",
              "    }\n",
              "\n",
              "    .dataframe tbody tr th {\n",
              "        vertical-align: top;\n",
              "    }\n",
              "\n",
              "    .dataframe thead th {\n",
              "        text-align: right;\n",
              "    }\n",
              "</style>\n",
              "<table border=\"1\" class=\"dataframe\">\n",
              "  <thead>\n",
              "    <tr style=\"text-align: right;\">\n",
              "      <th></th>\n",
              "      <th>Gender</th>\n",
              "      <th>Height</th>\n",
              "      <th>Weight</th>\n",
              "    </tr>\n",
              "  </thead>\n",
              "  <tbody>\n",
              "    <tr>\n",
              "      <th>7253</th>\n",
              "      <td>Female</td>\n",
              "      <td>64.715292</td>\n",
              "      <td>143.939717</td>\n",
              "    </tr>\n",
              "    <tr>\n",
              "      <th>1319</th>\n",
              "      <td>Male</td>\n",
              "      <td>70.404436</td>\n",
              "      <td>193.856769</td>\n",
              "    </tr>\n",
              "    <tr>\n",
              "      <th>5868</th>\n",
              "      <td>Female</td>\n",
              "      <td>58.376812</td>\n",
              "      <td>96.579212</td>\n",
              "    </tr>\n",
              "    <tr>\n",
              "      <th>6634</th>\n",
              "      <td>Female</td>\n",
              "      <td>63.806045</td>\n",
              "      <td>145.429650</td>\n",
              "    </tr>\n",
              "    <tr>\n",
              "      <th>9884</th>\n",
              "      <td>Female</td>\n",
              "      <td>61.808434</td>\n",
              "      <td>121.339602</td>\n",
              "    </tr>\n",
              "  </tbody>\n",
              "</table>\n",
              "</div>\n",
              "      <button class=\"colab-df-convert\" onclick=\"convertToInteractive('df-12581c4c-60b1-41be-b93b-b9275c45b1b7')\"\n",
              "              title=\"Convert this dataframe to an interactive table.\"\n",
              "              style=\"display:none;\">\n",
              "        \n",
              "  <svg xmlns=\"http://www.w3.org/2000/svg\" height=\"24px\"viewBox=\"0 0 24 24\"\n",
              "       width=\"24px\">\n",
              "    <path d=\"M0 0h24v24H0V0z\" fill=\"none\"/>\n",
              "    <path d=\"M18.56 5.44l.94 2.06.94-2.06 2.06-.94-2.06-.94-.94-2.06-.94 2.06-2.06.94zm-11 1L8.5 8.5l.94-2.06 2.06-.94-2.06-.94L8.5 2.5l-.94 2.06-2.06.94zm10 10l.94 2.06.94-2.06 2.06-.94-2.06-.94-.94-2.06-.94 2.06-2.06.94z\"/><path d=\"M17.41 7.96l-1.37-1.37c-.4-.4-.92-.59-1.43-.59-.52 0-1.04.2-1.43.59L10.3 9.45l-7.72 7.72c-.78.78-.78 2.05 0 2.83L4 21.41c.39.39.9.59 1.41.59.51 0 1.02-.2 1.41-.59l7.78-7.78 2.81-2.81c.8-.78.8-2.07 0-2.86zM5.41 20L4 18.59l7.72-7.72 1.47 1.35L5.41 20z\"/>\n",
              "  </svg>\n",
              "      </button>\n",
              "      \n",
              "  <style>\n",
              "    .colab-df-container {\n",
              "      display:flex;\n",
              "      flex-wrap:wrap;\n",
              "      gap: 12px;\n",
              "    }\n",
              "\n",
              "    .colab-df-convert {\n",
              "      background-color: #E8F0FE;\n",
              "      border: none;\n",
              "      border-radius: 50%;\n",
              "      cursor: pointer;\n",
              "      display: none;\n",
              "      fill: #1967D2;\n",
              "      height: 32px;\n",
              "      padding: 0 0 0 0;\n",
              "      width: 32px;\n",
              "    }\n",
              "\n",
              "    .colab-df-convert:hover {\n",
              "      background-color: #E2EBFA;\n",
              "      box-shadow: 0px 1px 2px rgba(60, 64, 67, 0.3), 0px 1px 3px 1px rgba(60, 64, 67, 0.15);\n",
              "      fill: #174EA6;\n",
              "    }\n",
              "\n",
              "    [theme=dark] .colab-df-convert {\n",
              "      background-color: #3B4455;\n",
              "      fill: #D2E3FC;\n",
              "    }\n",
              "\n",
              "    [theme=dark] .colab-df-convert:hover {\n",
              "      background-color: #434B5C;\n",
              "      box-shadow: 0px 1px 3px 1px rgba(0, 0, 0, 0.15);\n",
              "      filter: drop-shadow(0px 1px 2px rgba(0, 0, 0, 0.3));\n",
              "      fill: #FFFFFF;\n",
              "    }\n",
              "  </style>\n",
              "\n",
              "      <script>\n",
              "        const buttonEl =\n",
              "          document.querySelector('#df-12581c4c-60b1-41be-b93b-b9275c45b1b7 button.colab-df-convert');\n",
              "        buttonEl.style.display =\n",
              "          google.colab.kernel.accessAllowed ? 'block' : 'none';\n",
              "\n",
              "        async function convertToInteractive(key) {\n",
              "          const element = document.querySelector('#df-12581c4c-60b1-41be-b93b-b9275c45b1b7');\n",
              "          const dataTable =\n",
              "            await google.colab.kernel.invokeFunction('convertToInteractive',\n",
              "                                                     [key], {});\n",
              "          if (!dataTable) return;\n",
              "\n",
              "          const docLinkHtml = 'Like what you see? Visit the ' +\n",
              "            '<a target=\"_blank\" href=https://colab.research.google.com/notebooks/data_table.ipynb>data table notebook</a>'\n",
              "            + ' to learn more about interactive tables.';\n",
              "          element.innerHTML = '';\n",
              "          dataTable['output_type'] = 'display_data';\n",
              "          await google.colab.output.renderOutput(dataTable, element);\n",
              "          const docLink = document.createElement('div');\n",
              "          docLink.innerHTML = docLinkHtml;\n",
              "          element.appendChild(docLink);\n",
              "        }\n",
              "      </script>\n",
              "    </div>\n",
              "  </div>\n",
              "  "
            ]
          },
          "metadata": {},
          "execution_count": 5
        }
      ]
    },
    {
      "cell_type": "code",
      "source": [
        "df.info()"
      ],
      "metadata": {
        "colab": {
          "base_uri": "https://localhost:8080/"
        },
        "id": "l5PFZ2timIP7",
        "outputId": "4166ba65-87e0-4d15-bea2-9251686d7e7d"
      },
      "execution_count": 6,
      "outputs": [
        {
          "output_type": "stream",
          "name": "stdout",
          "text": [
            "<class 'pandas.core.frame.DataFrame'>\n",
            "RangeIndex: 10000 entries, 0 to 9999\n",
            "Data columns (total 3 columns):\n",
            " #   Column  Non-Null Count  Dtype  \n",
            "---  ------  --------------  -----  \n",
            " 0   Gender  10000 non-null  object \n",
            " 1   Height  10000 non-null  float64\n",
            " 2   Weight  10000 non-null  float64\n",
            "dtypes: float64(2), object(1)\n",
            "memory usage: 234.5+ KB\n"
          ]
        }
      ]
    },
    {
      "cell_type": "code",
      "source": [
        "df.describe()"
      ],
      "metadata": {
        "colab": {
          "base_uri": "https://localhost:8080/",
          "height": 300
        },
        "id": "MyNviHDHmKto",
        "outputId": "f615a827-cbca-4755-ec3c-63f654327910"
      },
      "execution_count": 7,
      "outputs": [
        {
          "output_type": "execute_result",
          "data": {
            "text/plain": [
              "             Height        Weight\n",
              "count  10000.000000  10000.000000\n",
              "mean      66.367560    161.440357\n",
              "std        3.847528     32.108439\n",
              "min       54.263133     64.700127\n",
              "25%       63.505620    135.818051\n",
              "50%       66.318070    161.212928\n",
              "75%       69.174262    187.169525\n",
              "max       78.998742    269.989699"
            ],
            "text/html": [
              "\n",
              "  <div id=\"df-4709159a-59b2-47f2-88ec-10e55510e7ce\">\n",
              "    <div class=\"colab-df-container\">\n",
              "      <div>\n",
              "<style scoped>\n",
              "    .dataframe tbody tr th:only-of-type {\n",
              "        vertical-align: middle;\n",
              "    }\n",
              "\n",
              "    .dataframe tbody tr th {\n",
              "        vertical-align: top;\n",
              "    }\n",
              "\n",
              "    .dataframe thead th {\n",
              "        text-align: right;\n",
              "    }\n",
              "</style>\n",
              "<table border=\"1\" class=\"dataframe\">\n",
              "  <thead>\n",
              "    <tr style=\"text-align: right;\">\n",
              "      <th></th>\n",
              "      <th>Height</th>\n",
              "      <th>Weight</th>\n",
              "    </tr>\n",
              "  </thead>\n",
              "  <tbody>\n",
              "    <tr>\n",
              "      <th>count</th>\n",
              "      <td>10000.000000</td>\n",
              "      <td>10000.000000</td>\n",
              "    </tr>\n",
              "    <tr>\n",
              "      <th>mean</th>\n",
              "      <td>66.367560</td>\n",
              "      <td>161.440357</td>\n",
              "    </tr>\n",
              "    <tr>\n",
              "      <th>std</th>\n",
              "      <td>3.847528</td>\n",
              "      <td>32.108439</td>\n",
              "    </tr>\n",
              "    <tr>\n",
              "      <th>min</th>\n",
              "      <td>54.263133</td>\n",
              "      <td>64.700127</td>\n",
              "    </tr>\n",
              "    <tr>\n",
              "      <th>25%</th>\n",
              "      <td>63.505620</td>\n",
              "      <td>135.818051</td>\n",
              "    </tr>\n",
              "    <tr>\n",
              "      <th>50%</th>\n",
              "      <td>66.318070</td>\n",
              "      <td>161.212928</td>\n",
              "    </tr>\n",
              "    <tr>\n",
              "      <th>75%</th>\n",
              "      <td>69.174262</td>\n",
              "      <td>187.169525</td>\n",
              "    </tr>\n",
              "    <tr>\n",
              "      <th>max</th>\n",
              "      <td>78.998742</td>\n",
              "      <td>269.989699</td>\n",
              "    </tr>\n",
              "  </tbody>\n",
              "</table>\n",
              "</div>\n",
              "      <button class=\"colab-df-convert\" onclick=\"convertToInteractive('df-4709159a-59b2-47f2-88ec-10e55510e7ce')\"\n",
              "              title=\"Convert this dataframe to an interactive table.\"\n",
              "              style=\"display:none;\">\n",
              "        \n",
              "  <svg xmlns=\"http://www.w3.org/2000/svg\" height=\"24px\"viewBox=\"0 0 24 24\"\n",
              "       width=\"24px\">\n",
              "    <path d=\"M0 0h24v24H0V0z\" fill=\"none\"/>\n",
              "    <path d=\"M18.56 5.44l.94 2.06.94-2.06 2.06-.94-2.06-.94-.94-2.06-.94 2.06-2.06.94zm-11 1L8.5 8.5l.94-2.06 2.06-.94-2.06-.94L8.5 2.5l-.94 2.06-2.06.94zm10 10l.94 2.06.94-2.06 2.06-.94-2.06-.94-.94-2.06-.94 2.06-2.06.94z\"/><path d=\"M17.41 7.96l-1.37-1.37c-.4-.4-.92-.59-1.43-.59-.52 0-1.04.2-1.43.59L10.3 9.45l-7.72 7.72c-.78.78-.78 2.05 0 2.83L4 21.41c.39.39.9.59 1.41.59.51 0 1.02-.2 1.41-.59l7.78-7.78 2.81-2.81c.8-.78.8-2.07 0-2.86zM5.41 20L4 18.59l7.72-7.72 1.47 1.35L5.41 20z\"/>\n",
              "  </svg>\n",
              "      </button>\n",
              "      \n",
              "  <style>\n",
              "    .colab-df-container {\n",
              "      display:flex;\n",
              "      flex-wrap:wrap;\n",
              "      gap: 12px;\n",
              "    }\n",
              "\n",
              "    .colab-df-convert {\n",
              "      background-color: #E8F0FE;\n",
              "      border: none;\n",
              "      border-radius: 50%;\n",
              "      cursor: pointer;\n",
              "      display: none;\n",
              "      fill: #1967D2;\n",
              "      height: 32px;\n",
              "      padding: 0 0 0 0;\n",
              "      width: 32px;\n",
              "    }\n",
              "\n",
              "    .colab-df-convert:hover {\n",
              "      background-color: #E2EBFA;\n",
              "      box-shadow: 0px 1px 2px rgba(60, 64, 67, 0.3), 0px 1px 3px 1px rgba(60, 64, 67, 0.15);\n",
              "      fill: #174EA6;\n",
              "    }\n",
              "\n",
              "    [theme=dark] .colab-df-convert {\n",
              "      background-color: #3B4455;\n",
              "      fill: #D2E3FC;\n",
              "    }\n",
              "\n",
              "    [theme=dark] .colab-df-convert:hover {\n",
              "      background-color: #434B5C;\n",
              "      box-shadow: 0px 1px 3px 1px rgba(0, 0, 0, 0.15);\n",
              "      filter: drop-shadow(0px 1px 2px rgba(0, 0, 0, 0.3));\n",
              "      fill: #FFFFFF;\n",
              "    }\n",
              "  </style>\n",
              "\n",
              "      <script>\n",
              "        const buttonEl =\n",
              "          document.querySelector('#df-4709159a-59b2-47f2-88ec-10e55510e7ce button.colab-df-convert');\n",
              "        buttonEl.style.display =\n",
              "          google.colab.kernel.accessAllowed ? 'block' : 'none';\n",
              "\n",
              "        async function convertToInteractive(key) {\n",
              "          const element = document.querySelector('#df-4709159a-59b2-47f2-88ec-10e55510e7ce');\n",
              "          const dataTable =\n",
              "            await google.colab.kernel.invokeFunction('convertToInteractive',\n",
              "                                                     [key], {});\n",
              "          if (!dataTable) return;\n",
              "\n",
              "          const docLinkHtml = 'Like what you see? Visit the ' +\n",
              "            '<a target=\"_blank\" href=https://colab.research.google.com/notebooks/data_table.ipynb>data table notebook</a>'\n",
              "            + ' to learn more about interactive tables.';\n",
              "          element.innerHTML = '';\n",
              "          dataTable['output_type'] = 'display_data';\n",
              "          await google.colab.output.renderOutput(dataTable, element);\n",
              "          const docLink = document.createElement('div');\n",
              "          docLink.innerHTML = docLinkHtml;\n",
              "          element.appendChild(docLink);\n",
              "        }\n",
              "      </script>\n",
              "    </div>\n",
              "  </div>\n",
              "  "
            ]
          },
          "metadata": {},
          "execution_count": 7
        }
      ]
    },
    {
      "cell_type": "code",
      "source": [
        "X = df.Height.values # input, data\n",
        "y_true = df.Weight.values #output, labels, Asnwers\n",
        "\n",
        "print(X[:5], y_true[:5], sep='\\n\\n')"
      ],
      "metadata": {
        "colab": {
          "base_uri": "https://localhost:8080/"
        },
        "id": "-m908mpXmN41",
        "outputId": "2d0e5d51-2b17-49a7-cef9-9c8ec7a6136c"
      },
      "execution_count": 8,
      "outputs": [
        {
          "output_type": "stream",
          "name": "stdout",
          "text": [
            "[73.84701702 68.78190405 74.11010539 71.7309784  69.88179586]\n",
            "\n",
            "[241.89356318 162.31047252 212.74085556 220.0424703  206.34980062]\n"
          ]
        }
      ]
    },
    {
      "cell_type": "code",
      "source": [
        "#line Equation\n",
        "def line(x, w=0, b=0):\n",
        "    return x * w + b\n",
        "\n",
        "#Cost Functions\n",
        "def mean_squared_error(y_true, y_pred):\n",
        "    s = (y_true - y_pred) ** 2\n",
        "    return np.sqrt(s.mean())"
      ],
      "metadata": {
        "id": "CpWIfJzZnF6s"
      },
      "execution_count": 9,
      "outputs": []
    },
    {
      "cell_type": "code",
      "source": [
        "plt.figure(figsize=(10,5))\n",
        "ax1 = plt.subplot(121) # rows,columns, select column 121\n",
        "df.plot(kind='scatter',\n",
        "       x=\"Height\",\n",
        "       y=\"Weight\",\n",
        "       title=\"Height Vs Weight\", ax=ax1)\n",
        "\n",
        "\n",
        "bs = [-100, -50, 0, 50, 100, 150]\n",
        "\n",
        "mses = []\n",
        "for b in bs:\n",
        "    y_pred = line(X, w=2, b=b) # predict line\n",
        "    mse = mean_squared_error(y_true, y_pred)\n",
        "    mses.append(mse)\n",
        "    plt.plot(X, y_pred) \n",
        "    \n",
        "    \n",
        "ax2 = plt.subplot(122)    \n",
        "plt.plot(bs, mses, 'o-')\n",
        "plt.title(\"Cost Functions for each line\")\n",
        "plt.xlabel(\"b\")"
      ],
      "metadata": {
        "colab": {
          "base_uri": "https://localhost:8080/",
          "height": 367
        },
        "id": "_GolmNUPnKYe",
        "outputId": "e5b0507c-eb74-4cbf-f2c3-e5bb75581ef1"
      },
      "execution_count": 10,
      "outputs": [
        {
          "output_type": "execute_result",
          "data": {
            "text/plain": [
              "Text(0.5, 0, 'b')"
            ]
          },
          "metadata": {},
          "execution_count": 10
        },
        {
          "output_type": "display_data",
          "data": {
            "text/plain": [
              "<Figure size 720x360 with 2 Axes>"
            ],
            "image/png": "[encoded data removed]"
          },
          "metadata": {
            "needs_background": "light"
          }
        }
      ]
    },
    {
      "cell_type": "code",
      "source": [
        "print(bs)\n",
        "print(mses)"
      ],
      "metadata": {
        "colab": {
          "base_uri": "https://localhost:8080/"
        },
        "id": "ScdCU61XnOIC",
        "outputId": "27a631df-5052-4b81-d904-8205d19d9d92"
      },
      "execution_count": 11,
      "outputs": [
        {
          "output_type": "stream",
          "name": "stdout",
          "text": [
            "[-100, -50, 0, 50, 100, 150]\n",
            "[131.1417931672291, 82.62957208407575, 38.172273320810234, 32.96359686320369, 75.60472859445356, 123.87716195296917]\n"
          ]
        }
      ]
    },
    {
      "cell_type": "markdown",
      "source": [
        "#Try to find w and b (weights) with Deep Learning"
      ],
      "metadata": {
        "id": "Jixa2RhonahW"
      }
    },
    {
      "cell_type": "code",
      "source": [
        "from tensorflow.keras.models import Sequential #sequential, Functional API\n",
        "from tensorflow.keras.layers import Dense #each nodes connected with others nodes\n",
        "from tensorflow.keras.optimizers import Adam, SGD"
      ],
      "metadata": {
        "id": "EMLSYWS7nVkg"
      },
      "execution_count": 12,
      "outputs": []
    },
    {
      "cell_type": "code",
      "source": [
        "import tensorflow\n",
        "tensorflow.__version__"
      ],
      "metadata": {
        "colab": {
          "base_uri": "https://localhost:8080/",
          "height": 36
        },
        "id": "rvA6x5ZJnfZx",
        "outputId": "58ee2750-947c-4860-d200-54b3fe65d2be"
      },
      "execution_count": 13,
      "outputs": [
        {
          "output_type": "execute_result",
          "data": {
            "text/plain": [
              "'2.8.2'"
            ],
            "application/vnd.google.colaboratory.intrinsic+json": {
              "type": "string"
            }
          },
          "metadata": {},
          "execution_count": 13
        }
      ]
    },
    {
      "cell_type": "code",
      "source": [
        "print(X[:2],\n",
        "     y_pred[:2], sep=\"\\n\")"
      ],
      "metadata": {
        "colab": {
          "base_uri": "https://localhost:8080/"
        },
        "id": "EbdKK33InlL4",
        "outputId": "dea750d2-6373-4e6d-cc3a-f046d88f056b"
      },
      "execution_count": 14,
      "outputs": [
        {
          "output_type": "stream",
          "name": "stdout",
          "text": [
            "[73.84701702 68.78190405]\n",
            "[297.69403404 287.56380809]\n"
          ]
        }
      ]
    },
    {
      "cell_type": "code",
      "source": [
        "model = Sequential()\n",
        "model.add(Dense(1,input_shape=(1,)))"
      ],
      "metadata": {
        "id": "0P0s2HM7noG3"
      },
      "execution_count": 15,
      "outputs": []
    },
    {
      "cell_type": "code",
      "source": [
        "model.summary()"
      ],
      "metadata": {
        "colab": {
          "base_uri": "https://localhost:8080/"
        },
        "id": "rpxRLolXnv14",
        "outputId": "4caf3ccb-5f43-4f84-8c35-eb6046c50211"
      },
      "execution_count": 16,
      "outputs": [
        {
          "output_type": "stream",
          "name": "stdout",
          "text": [
            "Model: \"sequential\"\n",
            "_________________________________________________________________\n",
            " Layer (type)                Output Shape              Param #   \n",
            "=================================================================\n",
            " dense (Dense)               (None, 1)                 2         \n",
            "                                                                 \n",
            "=================================================================\n",
            "Total params: 2\n",
            "Trainable params: 2\n",
            "Non-trainable params: 0\n",
            "_________________________________________________________________\n"
          ]
        }
      ]
    },
    {
      "cell_type": "code",
      "source": [
        "model.compile(Adam(lr=0.8),loss=\"mean_squared_error\")"
      ],
      "metadata": {
        "colab": {
          "base_uri": "https://localhost:8080/"
        },
        "id": "j2YIx_9in5o5",
        "outputId": "abbd47b7-30d9-44c1-bd47-24297229b8c1"
      },
      "execution_count": 18,
      "outputs": [
        {
          "output_type": "stream",
          "name": "stderr",
          "text": [
            "/usr/local/lib/python3.7/dist-packages/keras/optimizer_v2/adam.py:105: UserWarning: The `lr` argument is deprecated, use `learning_rate` instead.\n",
            "  super(Adam, self).__init__(name, **kwargs)\n"
          ]
        }
      ]
    },
    {
      "cell_type": "code",
      "source": [
        "model.fit(X,y_true,epochs=50)"
      ],
      "metadata": {
        "colab": {
          "base_uri": "https://localhost:8080/"
        },
        "id": "luM27v7soVjD",
        "outputId": "f03efba2-2829-4612-f77e-43545f62c5a9"
      },
      "execution_count": 20,
      "outputs": [
        {
          "output_type": "stream",
          "name": "stdout",
          "text": [
            "Epoch 1/50\n",
            "313/313 [==============================] - 1s 2ms/step - loss: 552.5177\n",
            "Epoch 2/50\n",
            "313/313 [==============================] - 1s 2ms/step - loss: 516.2924\n",
            "Epoch 3/50\n",
            "313/313 [==============================] - 1s 2ms/step - loss: 459.9991\n",
            "Epoch 4/50\n",
            "313/313 [==============================] - 1s 2ms/step - loss: 422.7213\n",
            "Epoch 5/50\n",
            "313/313 [==============================] - 1s 2ms/step - loss: 360.9113\n",
            "Epoch 6/50\n",
            "313/313 [==============================] - 1s 2ms/step - loss: 337.9714\n",
            "Epoch 7/50\n",
            "313/313 [==============================] - 1s 2ms/step - loss: 300.4902\n",
            "Epoch 8/50\n",
            "313/313 [==============================] - 1s 2ms/step - loss: 279.6262\n",
            "Epoch 9/50\n",
            "313/313 [==============================] - 1s 2ms/step - loss: 251.4637\n",
            "Epoch 10/50\n",
            "313/313 [==============================] - 1s 2ms/step - loss: 240.9788\n",
            "Epoch 11/50\n",
            "313/313 [==============================] - 1s 2ms/step - loss: 223.9108\n",
            "Epoch 12/50\n",
            "313/313 [==============================] - 1s 2ms/step - loss: 207.9100\n",
            "Epoch 13/50\n",
            "313/313 [==============================] - 1s 2ms/step - loss: 209.1436\n",
            "Epoch 14/50\n",
            "313/313 [==============================] - 1s 2ms/step - loss: 211.6989\n",
            "Epoch 15/50\n",
            "313/313 [==============================] - 1s 2ms/step - loss: 190.0597\n",
            "Epoch 16/50\n",
            "313/313 [==============================] - 1s 2ms/step - loss: 176.7914\n",
            "Epoch 17/50\n",
            "313/313 [==============================] - 1s 2ms/step - loss: 191.8091\n",
            "Epoch 18/50\n",
            "313/313 [==============================] - 1s 2ms/step - loss: 170.7751\n",
            "Epoch 19/50\n",
            "313/313 [==============================] - 1s 2ms/step - loss: 195.4404\n",
            "Epoch 20/50\n",
            "313/313 [==============================] - 1s 2ms/step - loss: 182.9532\n",
            "Epoch 21/50\n",
            "313/313 [==============================] - 1s 2ms/step - loss: 174.1376\n",
            "Epoch 22/50\n",
            "313/313 [==============================] - 1s 2ms/step - loss: 195.3859\n",
            "Epoch 23/50\n",
            "313/313 [==============================] - 1s 2ms/step - loss: 169.7487\n",
            "Epoch 24/50\n",
            "313/313 [==============================] - 1s 2ms/step - loss: 172.9342\n",
            "Epoch 25/50\n",
            "313/313 [==============================] - 1s 2ms/step - loss: 180.0589\n",
            "Epoch 26/50\n",
            "313/313 [==============================] - 1s 2ms/step - loss: 177.7890\n",
            "Epoch 27/50\n",
            "313/313 [==============================] - 0s 1ms/step - loss: 181.3946\n",
            "Epoch 28/50\n",
            "313/313 [==============================] - 0s 1ms/step - loss: 176.7419\n",
            "Epoch 29/50\n",
            "313/313 [==============================] - 0s 1ms/step - loss: 176.7515\n",
            "Epoch 30/50\n",
            "313/313 [==============================] - 0s 1ms/step - loss: 197.0234\n",
            "Epoch 31/50\n",
            "313/313 [==============================] - 0s 1ms/step - loss: 178.1048\n",
            "Epoch 32/50\n",
            "313/313 [==============================] - 0s 1ms/step - loss: 170.2527\n",
            "Epoch 33/50\n",
            "313/313 [==============================] - 0s 1ms/step - loss: 182.2901\n",
            "Epoch 34/50\n",
            "313/313 [==============================] - 0s 1ms/step - loss: 175.3139\n",
            "Epoch 35/50\n",
            "313/313 [==============================] - 0s 1ms/step - loss: 171.3165\n",
            "Epoch 36/50\n",
            "313/313 [==============================] - 0s 1ms/step - loss: 197.2961\n",
            "Epoch 37/50\n",
            "313/313 [==============================] - 0s 1ms/step - loss: 170.9256\n",
            "Epoch 38/50\n",
            "313/313 [==============================] - 0s 1ms/step - loss: 172.2102\n",
            "Epoch 39/50\n",
            "313/313 [==============================] - 0s 1ms/step - loss: 181.2404\n",
            "Epoch 40/50\n",
            "313/313 [==============================] - 0s 1ms/step - loss: 166.1049\n",
            "Epoch 41/50\n",
            "313/313 [==============================] - 0s 1ms/step - loss: 186.8298\n",
            "Epoch 42/50\n",
            "313/313 [==============================] - 0s 1ms/step - loss: 174.7204\n",
            "Epoch 43/50\n",
            "313/313 [==============================] - 0s 1ms/step - loss: 174.5288\n",
            "Epoch 44/50\n",
            "313/313 [==============================] - 0s 1ms/step - loss: 175.1559\n",
            "Epoch 45/50\n",
            "313/313 [==============================] - 0s 1ms/step - loss: 181.3003\n",
            "Epoch 46/50\n",
            "313/313 [==============================] - 0s 1ms/step - loss: 182.0315\n",
            "Epoch 47/50\n",
            "313/313 [==============================] - 0s 1ms/step - loss: 179.7730\n",
            "Epoch 48/50\n",
            "313/313 [==============================] - 0s 1ms/step - loss: 185.1462\n",
            "Epoch 49/50\n",
            "313/313 [==============================] - 0s 1ms/step - loss: 183.1624\n",
            "Epoch 50/50\n",
            "313/313 [==============================] - 0s 1ms/step - loss: 177.4733\n"
          ]
        },
        {
          "output_type": "execute_result",
          "data": {
            "text/plain": [
              "<keras.callbacks.History at 0x7f83a6d35090>"
            ]
          },
          "metadata": {},
          "execution_count": 20
        }
      ]
    },
    {
      "cell_type": "code",
      "source": [
        "y_pred = model.predict(X)"
      ],
      "metadata": {
        "id": "HAXHr5NsoiuD"
      },
      "execution_count": 21,
      "outputs": []
    },
    {
      "cell_type": "code",
      "source": [
        "df.plot(kind='scatter',\n",
        "       x='Height',\n",
        "       y=\"Weight\",\n",
        "       title=\"Height Vs Weight With Deep Learning (Find w and b)\")\n",
        "plt.plot(X, y_pred, color='red', linewidth=3)"
      ],
      "metadata": {
        "colab": {
          "base_uri": "https://localhost:8080/",
          "height": 312
        },
        "id": "sJ6SgObpo08C",
        "outputId": "7124cac9-bc90-420c-840d-8719dc84a626"
      },
      "execution_count": 22,
      "outputs": [
        {
          "output_type": "execute_result",
          "data": {
            "text/plain": [
              "[<matplotlib.lines.Line2D at 0x7f83a5c3e610>]"
            ]
          },
          "metadata": {},
          "execution_count": 22
        },
        {
          "output_type": "display_data",
          "data": {
            "text/plain": [
              "<Figure size 432x288 with 1 Axes>"
            ],
            "image/png": "[encoded data removed]"
          },
          "metadata": {
            "needs_background": "light"
          }
        }
      ]
    },
    {
      "cell_type": "code",
      "source": [
        "model.get_weights()"
      ],
      "metadata": {
        "colab": {
          "base_uri": "https://localhost:8080/"
        },
        "id": "PGQVBZ6Go4n3",
        "outputId": "bb505f0a-a023-40ad-f636-e82ccf8106a0"
      },
      "execution_count": 23,
      "outputs": [
        {
          "output_type": "execute_result",
          "data": {
            "text/plain": [
              "[array([[7.6817446]], dtype=float32), array([-350.65726], dtype=float32)]"
            ]
          },
          "metadata": {},
          "execution_count": 23
        }
      ]
    },
    {
      "cell_type": "code",
      "source": [
        ""
      ],
      "metadata": {
        "id": "3mvU_DW2o-3r"
      },
      "execution_count": null,
      "outputs": []
    }
  ]
}